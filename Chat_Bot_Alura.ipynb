{
  "nbformat": 4,
  "nbformat_minor": 0,
  "metadata": {
    "colab": {
      "provenance": [],
      "authorship_tag": "ABX9TyMPhcKbjTmBXn2Pp75e+bzO",
      "include_colab_link": true
    },
    "kernelspec": {
      "name": "python3",
      "display_name": "Python 3"
    },
    "language_info": {
      "name": "python"
    }
  },
  "cells": [
    {
      "cell_type": "markdown",
      "metadata": {
        "id": "view-in-github",
        "colab_type": "text"
      },
      "source": [
        "<a href=\"https://colab.research.google.com/github/OLIVEIRA028/Projetos_ALura_/blob/main/Chat_Bot_Alura.ipynb\" target=\"_parent\"><img src=\"https://colab.research.google.com/assets/colab-badge.svg\" alt=\"Open In Colab\"/></a>"
      ]
    },
    {
      "cell_type": "markdown",
      "source": [
        "##CHAT BOT 💭"
      ],
      "metadata": {
        "id": "8jOpzuqyXLLK"
      }
    },
    {
      "cell_type": "code",
      "source": [
        "!pip install -q -U google-generativeai"
      ],
      "metadata": {
        "id": "14xrwvk-UkqF"
      },
      "execution_count": null,
      "outputs": []
    },
    {
      "cell_type": "code",
      "source": [
        "# Aqui importaremos a biblioteca SDK do Google\n",
        "from google import generativeai as genai\n",
        "# Usado para armazenar com segurança sua chave de API em `google.colab.userdata`\n",
        "from google.colab import userdata\n",
        "\n",
        "# Cole sua chave da API aqui\n",
        "api_key = \"COLE_SUA_CHAVE_AQUI\"\n",
        "\n",
        "# Configure a biblioteca com a chave da API\n",
        "genai.configure(api_key=api_key)"
      ],
      "metadata": {
        "id": "PsF5Wc2EXZHT"
      },
      "execution_count": null,
      "outputs": []
    },
    {
      "cell_type": "markdown",
      "source": [
        "Listar os modelos da IA que estão disponiveis"
      ],
      "metadata": {
        "id": "0IX75L4AYeU7"
      }
    },
    {
      "cell_type": "code",
      "source": [
        "# Este código lista todos os modelos de IA generativa disponíveis no Google\n",
        "# Cloud e imprime os nomes dos modelos que suportam o método de geração\n",
        "# `generateContent`.\n",
        "\n",
        "# O método `genai.list_models()` retorna uma lista de objetos `Model`. Cada\n",
        "# objeto `Model` representa um modelo de IA generativa e possui vários\n",
        "# atributos, incluindo `name` e `supported_generation_methods`.\n",
        "\n",
        "# O código itera sobre a lista de modelos e verifica se o método\n",
        "# `generateContent` está incluído na lista de métodos de geração suportados\n",
        "# para cada modelo. Se for, o código imprime o nome do modelo.\n",
        "\n",
        "for m in genai.list_models():\n",
        "  if \"generateContent\" in m.supported_generation_methods:\n",
        "    print(m.name)"
      ],
      "metadata": {
        "id": "oNp1AQuDXfeu"
      },
      "execution_count": null,
      "outputs": []
    },
    {
      "cell_type": "code",
      "source": [
        "# Esta é uma configuração para o método `generate_content` da biblioteca SDK\n",
        "# do Google para IA generativa. Ele especifica os seguintes parâmetros:\n",
        "\n",
        "#* `candidate_count`: O número de candidatos de geração a serem retornados.\n",
        "# Neste caso, está definido como 1, o que significa que apenas um candidato\n",
        "# será gerado.\n",
        "\n",
        "#* `temperature`: Um valor que controla a aleatoriedade da geração.\n",
        "# Um valor mais alto resulta em gerações mais criativas, mas potencialmente\n",
        "# menos coerentes. Um valor mais baixo resulta em gerações mais previsíveis,\n",
        "# mas potencialmente menos interessantes. Neste caso, está definido como 0,5,\n",
        "# que é um valor intermediário.\n",
        "\n",
        "#Esta configuração pode ser usada para gerar um único candidato de geração com um nível moderado de aleatoriedade.\n",
        "\n",
        "generation_config = {\n",
        "    \"candidate_count\": 1,\n",
        "    \"temperature\": 0.5,\n",
        "}"
      ],
      "metadata": {
        "id": "imrb3vJsXhSC"
      },
      "execution_count": null,
      "outputs": []
    },
    {
      "cell_type": "code",
      "source": [
        "# Esta é uma configuração para o método `generate_content` da biblioteca SDK\n",
        "# do Google para IA generativa. Ele especifica as seguintes configurações de\n",
        "# segurança:\n",
        "\n",
        "#* `Harassment`: O nível de proteção contra conteúdo de assédio. `Block_None` significa que nenhum conteúdo de assédio será bloqueado.\n",
        "#* `Hate`: O nível de proteção contra conteúdo de ódio. `Block_None` significa que nenhum conteúdo de ódio será bloqueado.\n",
        "#* `Sexual`: O nível de proteção contra conteúdo sexual. `Block_None` significa que nenhum conteúdo sexual será bloqueado.\n",
        "#* `Dangerous`: O nível de proteção contra conteúdo perigoso. `Block_None` significa que nenhum conteúdo perigoso será bloqueado.\n",
        "\n",
        "#Esta configuração permite que todo o conteúdo seja gerado, incluindo conteúdo que possa ser considerado assédio, discurso de ódio, conteúdo sexual ou perigoso.\n",
        "\n",
        "#Observe que é importante usar as configurações de segurança com cuidado, pois elas podem afetar a qualidade e a utilidade do conteúdo gerado.\n",
        "\n",
        "safety_settings = {\n",
        "    \"Harassment\": \"Block_None\",\n",
        "    \"Hate\": \"Block_None\",\n",
        "    \"Sexual\": \"Block_None\",\n",
        "    \"Dangerous\": \"Block_None\",\n",
        "}"
      ],
      "metadata": {
        "id": "EEOaTCJCcuPg"
      },
      "execution_count": null,
      "outputs": []
    },
    {
      "cell_type": "markdown",
      "source": [
        "Inicializando o modelo"
      ],
      "metadata": {
        "id": "NRD23IOBd2k7"
      }
    },
    {
      "cell_type": "code",
      "source": [
        "# Este código cria um objeto `GenerativeModel` que representa um modelo de IA\n",
        "# generativa específico. O modelo é especificado pelo seu nome, que neste caso\n",
        "# é `\"gemini-1.0-pro\"`.\n",
        "\n",
        "# O objeto `GenerativeModel` também é configurado com as configurações de\n",
        "# geração e segurança especificadas anteriormente.\n",
        "\n",
        "# Este objeto `GenerativeModel` pode ser usado para gerar conteúdo textual\n",
        "# usando o método `generate_content`.\n",
        "\n",
        "model = genai.GenerativeModel(model_name=\"gemini-1.0-pro\",\n",
        "                              generation_config=generation_config,\n",
        "                              safety_settings=safety_settings)"
      ],
      "metadata": {
        "id": "8gFp3oqQd2NB"
      },
      "execution_count": null,
      "outputs": []
    },
    {
      "cell_type": "code",
      "source": [
        "#Este código usa o objeto `GenerativeModel` para gerar conteúdo textual com base no prompt fornecido.\n",
        "#O prompt é: \"Vamos aprender sobre IA, me dê sugestões.\".\n",
        "\n",
        "# O método `generate_content` retorna um objeto `GenerationResponse` que\n",
        "# contém o conteúdo gerado. O conteúdo gerado é impresso no console usando a\n",
        "# função `print`.\n",
        "\n",
        "#A saída do código será algo como o seguinte:\n",
        "\n",
        "# GenerationResponse(candidates=[Candidate(generated_content=\"* **Introdução\n",
        "# à IA**\\n\\n* **O que é IA?**\\n\\n* **Tipos de IA**\\n\\n* **Aplicações da\n",
        "# IA**\\n\\n* **Benefícios da IA**\\n\\n* **Desafios da IA**\\n\\n* **O futuro da\n",
        "# IA**\\n\\n* **Conclusão**\")])\n",
        "\n",
        "# Neste caso, o conteúdo gerado é uma lista de tópicos que podem ser cobertos\n",
        "# em uma introdução à IA.\n",
        "\n",
        "response = model.generate_content(\"Vamos aprender sobre IA, me dê sugestões.\")\n",
        "print(response)"
      ],
      "metadata": {
        "id": "BL3WQvySe4kk"
      },
      "execution_count": null,
      "outputs": []
    },
    {
      "cell_type": "code",
      "source": [
        "chat = model.start_chat(history=[])"
      ],
      "metadata": {
        "id": "USgJD1y-fRTH"
      },
      "execution_count": null,
      "outputs": []
    },
    {
      "cell_type": "code",
      "source": [
        "# Este código cria um loop interativo que permite ao usuário conversar com um\n",
        "# chatbot.\n",
        "\n",
        "# O loop começa solicitando ao usuário que insira um prompt. O prompt é\n",
        "# então enviado para o chatbot usando o método `send_message`.\n",
        "\n",
        "# A resposta do chatbot é impressa no console e o usuário é solicitado a\n",
        "# inserir outro prompt.\n",
        "\n",
        "#O loop continua até que o usuário insira o prompt \"fim\", que encerra o loop.\n",
        "\n",
        "# Este código é útil para testar um chatbot e obter uma ideia de como ele\n",
        "# responde a diferentes prompts.\n",
        "\n",
        "import os\n",
        "from tabulate import tabulate\n",
        "\n",
        "while True:\n",
        "    os.system('cls' if os.name == 'nt' else 'clear')\n",
        "\n",
        "    prompt = input(\"Esperando prompt: \")\n",
        "\n",
        "    if prompt == \"fim\":\n",
        "        break\n",
        "\n",
        "    response = chat.send_message(prompt)\n",
        "    table = tabulate([[\"Pergunta\", \"Resposta\"], [prompt, response.text]], tablefmt=\"fancy_grid\")\n",
        "    print(table)\n",
        "\n",
        "    # Limpa o output após cada resposta\n",
        "    os.system('cls' if os.name == 'nt' else 'clear')"
      ],
      "metadata": {
        "id": "rlzAeVCOft48"
      },
      "execution_count": null,
      "outputs": []
    },
    {
      "cell_type": "code",
      "source": [
        "# `chat` é uma variável que representa um objeto `Conversation` da biblioteca\n",
        "# SDK do Google para IA conversacional.\n",
        "\n",
        "chat"
      ],
      "metadata": {
        "id": "u2faz4IlmQyj"
      },
      "execution_count": null,
      "outputs": []
    },
    {
      "cell_type": "code",
      "source": [
        "#Isso imprimirá o histórico da conversa no console.\n",
        "\n",
        "# Você também pode usar o histórico da conversa para treinar um modelo de\n",
        "# aprendizado de máquina para melhorar o desempenho do chatbot. Por exemplo,\n",
        "# você pode usar o histórico da conversa para treinar um modelo de\n",
        "# classificação para identificar a intenção do usuário em cada mensagem.\n",
        "\n",
        "chat.history"
      ],
      "metadata": {
        "id": "C2KQ51nTmRkd"
      },
      "execution_count": null,
      "outputs": []
    },
    {
      "cell_type": "code",
      "source": [
        "# Este código melhora a visualização do histórico da conversa usando as\n",
        "# seguintes técnicas:\n",
        "\n",
        "#* **Substituindo marcadores por asteriscos:** Os marcadores (`•`) são substituídos por asteriscos (`*`) para melhorar a legibilidade.\n",
        "#* **Recuo do texto:** O texto de cada mensagem é recuado para torná-lo mais fácil de ler.\n",
        "#* **Exibição de Markdown:** O texto de cada mensagem é exibido como Markdown para melhorar a formatação.\n",
        "\n",
        "#O resultado é um histórico de conversa mais fácil de ler e entender.\n",
        "\n",
        "# Este código é útil para depurar conversas com chatbots e obter uma ideia de\n",
        "# como eles estão respondendo às mensagens do usuário.\n",
        "\n",
        "\n",
        "#melhorando a visualização\n",
        "import textwrap\n",
        "from IPython.display import display\n",
        "from IPython.display import Markdown\n",
        "\n",
        "def to_markdown(text):\n",
        "  text = text.replace(\"•\", \" *\")\n",
        "  return Markdown(textwrap.indent(text, \"> \", predicate=lambda _: True))\n",
        "\n",
        "#Imprimindo o histórico\n",
        "for message in chat.history:\n",
        "  display(to_markdown(f\"**{message.role}**: {message.parts[0].text}\"))\n",
        "  print(\"-------------------------------------------\")"
      ],
      "metadata": {
        "id": "S4eHykNgkV-2"
      },
      "execution_count": null,
      "outputs": []
    }
  ]
}